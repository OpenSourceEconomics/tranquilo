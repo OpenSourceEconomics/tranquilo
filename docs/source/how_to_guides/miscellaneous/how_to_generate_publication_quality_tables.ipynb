{
 "cells": [
  {
   "cell_type": "markdown",
   "metadata": {},
   "source": [
    "# How to generate publication quality tables\n"
   ]
  },
  {
   "cell_type": "markdown",
   "metadata": {},
   "source": [
    "Estimagic can create publication quality tables of parameter estimates in LaTeX or HTML. It works with the results from `estimate_ml` and `estimate_msm` but also supports statsmodels results out of the box. \n",
    "\n",
    "You can get almost limitless flexibility if you split the table generation into two steps. The fist generates a DataFrame which you can customize to your liking, the second renders that DataFrame in LaTeX or HTML."
   ]
  },
  {
   "cell_type": "code",
   "execution_count": 1,
   "metadata": {},
   "outputs": [],
   "source": [
    "import numpy as np\n",
    "import pandas as pd\n",
    "import statsmodels.formula.api as sm\n",
    "from IPython.core.display import HTML, Latex\n",
    "\n",
    "from estimagic import estimation_table, render_html, render_latex\n",
    "from estimagic.config import EXAMPLE_DIR"
   ]
  },
  {
   "cell_type": "markdown",
   "metadata": {},
   "source": [
    "## Create tables from statsmodels results"
   ]
  },
  {
   "cell_type": "code",
   "execution_count": 2,
   "metadata": {},
   "outputs": [],
   "source": [
    "df = pd.read_csv(EXAMPLE_DIR / \"diabetes.csv\", index_col=0)\n",
    "mod1 = sm.ols(\"target ~ Age + Sex\", data=df).fit()\n",
    "mod2 = sm.ols(\"target ~ Age + Sex + BMI + ABP\", data=df).fit()\n",
    "models = [mod1, mod2]"
   ]
  },
  {
   "cell_type": "code",
   "execution_count": 3,
   "metadata": {
    "scrolled": false
   },
   "outputs": [
    {
     "data": {
      "text/html": [
       "<table border=\"1\" class=\"dataframe\">\n",
       "  <thead>\n",
       "    <tr>\n",
       "      <th></th>\n",
       "      <th colspan=\"2\" halign=\"left\">target</th>\n",
       "    </tr>\n",
       "    <tr>\n",
       "      <th></th>\n",
       "      <th>(1)</th>\n",
       "      <th>(2)</th>\n",
       "    </tr>\n",
       "  </thead>\n",
       "  <tbody>\n",
       "    <tr>\n",
       "      <th>Intercept</th>\n",
       "      <td>152.00$^{*** }$</td>\n",
       "      <td>152.00$^{*** }$</td>\n",
       "    </tr>\n",
       "    <tr>\n",
       "      <th></th>\n",
       "      <td>(3.61)</td>\n",
       "      <td>(2.85)</td>\n",
       "    </tr>\n",
       "    <tr>\n",
       "      <th>Age</th>\n",
       "      <td>301.00$^{*** }$</td>\n",
       "      <td>37.20$^{ }$</td>\n",
       "    </tr>\n",
       "    <tr>\n",
       "      <th></th>\n",
       "      <td>(77.10)</td>\n",
       "      <td>(64.10)</td>\n",
       "    </tr>\n",
       "    <tr>\n",
       "      <th>Sex</th>\n",
       "      <td>17.40$^{ }$</td>\n",
       "      <td>-107.00$^{* }$</td>\n",
       "    </tr>\n",
       "    <tr>\n",
       "      <th></th>\n",
       "      <td>(77.10)</td>\n",
       "      <td>(62.10)</td>\n",
       "    </tr>\n",
       "    <tr>\n",
       "      <th>BMI</th>\n",
       "      <td></td>\n",
       "      <td>787.00$^{*** }$</td>\n",
       "    </tr>\n",
       "    <tr>\n",
       "      <th></th>\n",
       "      <td></td>\n",
       "      <td>(65.40)</td>\n",
       "    </tr>\n",
       "    <tr>\n",
       "      <th>ABP</th>\n",
       "      <td></td>\n",
       "      <td>417.00$^{*** }$</td>\n",
       "    </tr>\n",
       "    <tr>\n",
       "      <th></th>\n",
       "      <td></td>\n",
       "      <td>(69.50)</td>\n",
       "    </tr>\n",
       "  <tr><td colspan=\"3\" style=\"border-bottom: 1px solid black\">\n",
       "            </td></tr>  <tbody>\n",
       "    <tr>\n",
       "      <th>R$^2$</th>\n",
       "      <td>0.04</td>\n",
       "      <td>0.40</td>\n",
       "    </tr>\n",
       "    <tr>\n",
       "      <th>Adj. R$^2$</th>\n",
       "      <td>0.03</td>\n",
       "      <td>0.40</td>\n",
       "    </tr>\n",
       "    <tr>\n",
       "      <th>Residual Std. Error</th>\n",
       "      <td>75.90</td>\n",
       "      <td>60.00</td>\n",
       "    </tr>\n",
       "    <tr>\n",
       "      <th>F Statistic</th>\n",
       "      <td>8.06$^{***}$</td>\n",
       "      <td>72.90$^{***}$</td>\n",
       "    </tr>\n",
       "    <tr>\n",
       "      <th>Observations</th>\n",
       "      <td>442</td>\n",
       "      <td>442</td>\n",
       "    </tr>\n",
       "  <tr><td colspan=\"3\" style=\"border-bottom: 1px solid black\">\n",
       "        </td></tr>\n",
       "        <tr><td style=\"text-align: left\">Note:</td><td colspan=\"2\"\n",
       "        style=\"text-align: right\"><sup>***</sup>p&lt;0.01; <sup>**</sup>p&lt;0.05; <sup>*</sup>p&lt;0.1 </td></tbody>\n",
       "</table>"
      ],
      "text/plain": [
       "<IPython.core.display.HTML object>"
      ]
     },
     "execution_count": 3,
     "metadata": {},
     "output_type": "execute_result"
    }
   ],
   "source": [
    "HTML(estimation_table(models, return_type=\"html\"))"
   ]
  },
  {
   "cell_type": "markdown",
   "metadata": {},
   "source": [
    "## Adding estimagic results\n",
    "\n",
    "`estimate_ml` and `estimate_msm` can both generate summaries of estimation results. Those summaries are either DataFrames with the columns `\"value\"`, `\"standard_error\"`, `\"p_value\"` and `\"stars\"` or pytrees containing such DataFrames. \n",
    "\n",
    "For examples, check out our tutorials on [`estimate_ml`](../../getting_started/first_likelihood_estimation_with_estimagic.ipynb) and [`estimate_msm`](../../getting_started/first_msm_estimation_with_estimagic.ipynb).\n",
    "\n",
    "\n",
    "Assume we got the following DataFrame from an estimation summary:"
   ]
  },
  {
   "cell_type": "code",
   "execution_count": 4,
   "metadata": {},
   "outputs": [
    {
     "data": {
      "text/html": [
       "<div>\n",
       "<style scoped>\n",
       "    .dataframe tbody tr th:only-of-type {\n",
       "        vertical-align: middle;\n",
       "    }\n",
       "\n",
       "    .dataframe tbody tr th {\n",
       "        vertical-align: top;\n",
       "    }\n",
       "\n",
       "    .dataframe thead th {\n",
       "        text-align: right;\n",
       "    }\n",
       "</style>\n",
       "<table border=\"1\" class=\"dataframe\">\n",
       "  <thead>\n",
       "    <tr style=\"text-align: right;\">\n",
       "      <th></th>\n",
       "      <th>value</th>\n",
       "      <th>standard_error</th>\n",
       "      <th>p_value</th>\n",
       "    </tr>\n",
       "  </thead>\n",
       "  <tbody>\n",
       "    <tr>\n",
       "      <th>Intercept</th>\n",
       "      <td>142.123</td>\n",
       "      <td>3.14150</td>\n",
       "      <td>1.000000e-08</td>\n",
       "    </tr>\n",
       "    <tr>\n",
       "      <th>Age</th>\n",
       "      <td>51.456</td>\n",
       "      <td>2.71828</td>\n",
       "      <td>1.000000e-08</td>\n",
       "    </tr>\n",
       "    <tr>\n",
       "      <th>Sex</th>\n",
       "      <td>-33.789</td>\n",
       "      <td>1.61800</td>\n",
       "      <td>1.000000e-08</td>\n",
       "    </tr>\n",
       "  </tbody>\n",
       "</table>\n",
       "</div>"
      ],
      "text/plain": [
       "             value  standard_error       p_value\n",
       "Intercept  142.123         3.14150  1.000000e-08\n",
       "Age         51.456         2.71828  1.000000e-08\n",
       "Sex        -33.789         1.61800  1.000000e-08"
      ]
     },
     "execution_count": 4,
     "metadata": {},
     "output_type": "execute_result"
    }
   ],
   "source": [
    "params = pd.DataFrame(\n",
    "    {\n",
    "        \"value\": [142.123, 51.456, -33.789],\n",
    "        \"standard_error\": [3.1415, 2.71828, 1.6180],\n",
    "        \"p_value\": [1e-8] * 3,\n",
    "    },\n",
    "    index=[\"Intercept\", \"Age\", \"Sex\"],\n",
    ")\n",
    "params"
   ]
  },
  {
   "cell_type": "markdown",
   "metadata": {},
   "source": [
    "You can either use just the params DataFrame or a dictionary containing \"params\" and additional information in `estimation_table`."
   ]
  },
  {
   "cell_type": "code",
   "execution_count": 5,
   "metadata": {},
   "outputs": [],
   "source": [
    "mod3 = {\"params\": params, \"name\": \"target\", \"info\": {\"n_obs\": 445}}\n",
    "models = [mod1, mod2, mod3]"
   ]
  },
  {
   "cell_type": "code",
   "execution_count": 6,
   "metadata": {},
   "outputs": [
    {
     "data": {
      "text/html": [
       "<table border=\"1\" class=\"dataframe\">\n",
       "  <thead>\n",
       "    <tr>\n",
       "      <th></th>\n",
       "      <th colspan=\"3\" halign=\"left\">target</th>\n",
       "    </tr>\n",
       "    <tr>\n",
       "      <th></th>\n",
       "      <th>(1)</th>\n",
       "      <th>(2)</th>\n",
       "      <th>(3)</th>\n",
       "    </tr>\n",
       "  </thead>\n",
       "  <tbody>\n",
       "    <tr>\n",
       "      <th>Intercept</th>\n",
       "      <td>152.00$^{*** }$</td>\n",
       "      <td>152.00$^{*** }$</td>\n",
       "      <td>142.00$^{*** }$</td>\n",
       "    </tr>\n",
       "    <tr>\n",
       "      <th></th>\n",
       "      <td>(3.61)</td>\n",
       "      <td>(2.85)</td>\n",
       "      <td>(3.14)</td>\n",
       "    </tr>\n",
       "    <tr>\n",
       "      <th>Age</th>\n",
       "      <td>301.00$^{*** }$</td>\n",
       "      <td>37.20$^{ }$</td>\n",
       "      <td>51.50$^{*** }$</td>\n",
       "    </tr>\n",
       "    <tr>\n",
       "      <th></th>\n",
       "      <td>(77.10)</td>\n",
       "      <td>(64.10)</td>\n",
       "      <td>(2.72)</td>\n",
       "    </tr>\n",
       "    <tr>\n",
       "      <th>Sex</th>\n",
       "      <td>17.40$^{ }$</td>\n",
       "      <td>-107.00$^{* }$</td>\n",
       "      <td>-33.80$^{*** }$</td>\n",
       "    </tr>\n",
       "    <tr>\n",
       "      <th></th>\n",
       "      <td>(77.10)</td>\n",
       "      <td>(62.10)</td>\n",
       "      <td>(1.62)</td>\n",
       "    </tr>\n",
       "    <tr>\n",
       "      <th>BMI</th>\n",
       "      <td></td>\n",
       "      <td>787.00$^{*** }$</td>\n",
       "      <td></td>\n",
       "    </tr>\n",
       "    <tr>\n",
       "      <th></th>\n",
       "      <td></td>\n",
       "      <td>(65.40)</td>\n",
       "      <td></td>\n",
       "    </tr>\n",
       "    <tr>\n",
       "      <th>ABP</th>\n",
       "      <td></td>\n",
       "      <td>417.00$^{*** }$</td>\n",
       "      <td></td>\n",
       "    </tr>\n",
       "    <tr>\n",
       "      <th></th>\n",
       "      <td></td>\n",
       "      <td>(69.50)</td>\n",
       "      <td></td>\n",
       "    </tr>\n",
       "  <tr><td colspan=\"4\" style=\"border-bottom: 1px solid black\">\n",
       "            </td></tr>  <tbody>\n",
       "    <tr>\n",
       "      <th>R$^2$</th>\n",
       "      <td>0.04</td>\n",
       "      <td>0.40</td>\n",
       "      <td></td>\n",
       "    </tr>\n",
       "    <tr>\n",
       "      <th>Adj. R$^2$</th>\n",
       "      <td>0.03</td>\n",
       "      <td>0.40</td>\n",
       "      <td></td>\n",
       "    </tr>\n",
       "    <tr>\n",
       "      <th>Residual Std. Error</th>\n",
       "      <td>75.90</td>\n",
       "      <td>60.00</td>\n",
       "      <td></td>\n",
       "    </tr>\n",
       "    <tr>\n",
       "      <th>F Statistic</th>\n",
       "      <td>8.06$^{***}$</td>\n",
       "      <td>72.90$^{***}$</td>\n",
       "      <td></td>\n",
       "    </tr>\n",
       "    <tr>\n",
       "      <th>Observations</th>\n",
       "      <td>442</td>\n",
       "      <td>442</td>\n",
       "      <td>445</td>\n",
       "    </tr>\n",
       "  <tr><td colspan=\"4\" style=\"border-bottom: 1px solid black\">\n",
       "        </td></tr>\n",
       "        <tr><td style=\"text-align: left\">Note:</td><td colspan=\"3\"\n",
       "        style=\"text-align: right\"><sup>***</sup>p&lt;0.01; <sup>**</sup>p&lt;0.05; <sup>*</sup>p&lt;0.1 </td></tbody>\n",
       "</table>"
      ],
      "text/plain": [
       "<IPython.core.display.HTML object>"
      ]
     },
     "execution_count": 6,
     "metadata": {},
     "output_type": "execute_result"
    }
   ],
   "source": [
    "HTML(estimation_table(models, return_type=\"html\"))"
   ]
  },
  {
   "cell_type": "markdown",
   "metadata": {},
   "source": [
    "## Selecting the right return_type\n",
    "\n",
    "The following return types are supported:\n",
    "- `\"latex\"`: Returns a string that you can save and import into a LaTeX document\n",
    "- `\"html\"`: Returns a string that you can save and import into a HTML document.\n",
    "- `\"render_inputs\"`: Returns a dictionary with the following entries:\n",
    "    - `\"body\"`: A DataFrame containing the main table\n",
    "    - `\"footer\"`: A DataFrame containing the statisics\n",
    "    - other stuff that you should ignore\n",
    "- `\"dataframe\"`: Returns a DataFrame you can look at in a notebook"
   ]
  },
  {
   "cell_type": "markdown",
   "metadata": {},
   "source": [
    "## Use `render_inputs` for maximum flexibility\n",
    "\n",
    "As an example, let's assume we want to remove a few rows from the footer.\n",
    "\n",
    "Let's first look at the footer we get from `estimation_table`"
   ]
  },
  {
   "cell_type": "code",
   "execution_count": 11,
   "metadata": {},
   "outputs": [
    {
     "data": {
      "text/html": [
       "<div>\n",
       "<style scoped>\n",
       "    .dataframe tbody tr th:only-of-type {\n",
       "        vertical-align: middle;\n",
       "    }\n",
       "\n",
       "    .dataframe tbody tr th {\n",
       "        vertical-align: top;\n",
       "    }\n",
       "\n",
       "    .dataframe thead tr th {\n",
       "        text-align: left;\n",
       "    }\n",
       "</style>\n",
       "<table border=\"1\" class=\"dataframe\">\n",
       "  <thead>\n",
       "    <tr>\n",
       "      <th></th>\n",
       "      <th colspan=\"3\" halign=\"left\">target</th>\n",
       "    </tr>\n",
       "    <tr>\n",
       "      <th></th>\n",
       "      <th>(1)</th>\n",
       "      <th>(2)</th>\n",
       "      <th>(3)</th>\n",
       "    </tr>\n",
       "  </thead>\n",
       "  <tbody>\n",
       "    <tr>\n",
       "      <th>R$^2$</th>\n",
       "      <td>0.04</td>\n",
       "      <td>0.40</td>\n",
       "      <td></td>\n",
       "    </tr>\n",
       "    <tr>\n",
       "      <th>Adj. R$^2$</th>\n",
       "      <td>0.03</td>\n",
       "      <td>0.40</td>\n",
       "      <td></td>\n",
       "    </tr>\n",
       "    <tr>\n",
       "      <th>Residual Std. Error</th>\n",
       "      <td>75.90</td>\n",
       "      <td>60.00</td>\n",
       "      <td></td>\n",
       "    </tr>\n",
       "    <tr>\n",
       "      <th>F Statistic</th>\n",
       "      <td>8.06$^{***}$</td>\n",
       "      <td>72.90$^{***}$</td>\n",
       "      <td></td>\n",
       "    </tr>\n",
       "    <tr>\n",
       "      <th>Observations</th>\n",
       "      <td>442</td>\n",
       "      <td>442</td>\n",
       "      <td>445</td>\n",
       "    </tr>\n",
       "  </tbody>\n",
       "</table>\n",
       "</div>"
      ],
      "text/plain": [
       "                           target                    \n",
       "                              (1)            (2)  (3)\n",
       "R$^2$                        0.04           0.40     \n",
       "Adj. R$^2$                   0.03           0.40     \n",
       "Residual Std. Error         75.90          60.00     \n",
       "F Statistic          8.06$^{***}$  72.90$^{***}$     \n",
       "Observations                  442            442  445"
      ]
     },
     "execution_count": 11,
     "metadata": {},
     "output_type": "execute_result"
    }
   ],
   "source": [
    "render_inputs = estimation_table(models, return_type=\"render_inputs\")\n",
    "footer = render_inputs[\"footer\"]\n",
    "footer"
   ]
  },
  {
   "cell_type": "markdown",
   "metadata": {},
   "source": [
    "Now we can remove the rows we don't need and render it to html. "
   ]
  },
  {
   "cell_type": "code",
   "execution_count": 12,
   "metadata": {},
   "outputs": [
    {
     "data": {
      "text/html": [
       "<table border=\"1\" class=\"dataframe\">\n",
       "  <thead>\n",
       "    <tr>\n",
       "      <th></th>\n",
       "      <th colspan=\"3\" halign=\"left\">target</th>\n",
       "    </tr>\n",
       "    <tr>\n",
       "      <th></th>\n",
       "      <th>(1)</th>\n",
       "      <th>(2)</th>\n",
       "      <th>(3)</th>\n",
       "    </tr>\n",
       "  </thead>\n",
       "  <tbody>\n",
       "    <tr>\n",
       "      <th>Intercept</th>\n",
       "      <td>152.00$^{*** }$</td>\n",
       "      <td>152.00$^{*** }$</td>\n",
       "      <td>142.00$^{*** }$</td>\n",
       "    </tr>\n",
       "    <tr>\n",
       "      <th></th>\n",
       "      <td>(3.61)</td>\n",
       "      <td>(2.85)</td>\n",
       "      <td>(3.14)</td>\n",
       "    </tr>\n",
       "    <tr>\n",
       "      <th>Age</th>\n",
       "      <td>301.00$^{*** }$</td>\n",
       "      <td>37.20$^{ }$</td>\n",
       "      <td>51.50$^{*** }$</td>\n",
       "    </tr>\n",
       "    <tr>\n",
       "      <th></th>\n",
       "      <td>(77.10)</td>\n",
       "      <td>(64.10)</td>\n",
       "      <td>(2.72)</td>\n",
       "    </tr>\n",
       "    <tr>\n",
       "      <th>Sex</th>\n",
       "      <td>17.40$^{ }$</td>\n",
       "      <td>-107.00$^{* }$</td>\n",
       "      <td>-33.80$^{*** }$</td>\n",
       "    </tr>\n",
       "    <tr>\n",
       "      <th></th>\n",
       "      <td>(77.10)</td>\n",
       "      <td>(62.10)</td>\n",
       "      <td>(1.62)</td>\n",
       "    </tr>\n",
       "    <tr>\n",
       "      <th>BMI</th>\n",
       "      <td></td>\n",
       "      <td>787.00$^{*** }$</td>\n",
       "      <td></td>\n",
       "    </tr>\n",
       "    <tr>\n",
       "      <th></th>\n",
       "      <td></td>\n",
       "      <td>(65.40)</td>\n",
       "      <td></td>\n",
       "    </tr>\n",
       "    <tr>\n",
       "      <th>ABP</th>\n",
       "      <td></td>\n",
       "      <td>417.00$^{*** }$</td>\n",
       "      <td></td>\n",
       "    </tr>\n",
       "    <tr>\n",
       "      <th></th>\n",
       "      <td></td>\n",
       "      <td>(69.50)</td>\n",
       "      <td></td>\n",
       "    </tr>\n",
       "  <tr><td colspan=\"4\" style=\"border-bottom: 1px solid black\">\n",
       "            </td></tr>  <tbody>\n",
       "    <tr>\n",
       "      <th>R$^2$</th>\n",
       "      <td>0.04</td>\n",
       "      <td>0.40</td>\n",
       "      <td></td>\n",
       "    </tr>\n",
       "    <tr>\n",
       "      <th>Observations</th>\n",
       "      <td>442</td>\n",
       "      <td>442</td>\n",
       "      <td>445</td>\n",
       "    </tr>\n",
       "  <tr><td colspan=\"4\" style=\"border-bottom: 1px solid black\">\n",
       "        </td></tr>\n",
       "        <tr><td style=\"text-align: left\">Note:</td><td colspan=\"3\"\n",
       "        style=\"text-align: right\"><sup>***</sup>p&lt;0.01; <sup>**</sup>p&lt;0.05; <sup>*</sup>p&lt;0.1 </td></tbody>\n",
       "</table>"
      ],
      "text/plain": [
       "<IPython.core.display.HTML object>"
      ]
     },
     "execution_count": 12,
     "metadata": {},
     "output_type": "execute_result"
    }
   ],
   "source": [
    "render_inputs[\"footer\"] = footer.loc[[\"R$^2$\", \"Observations\"]]\n",
    "HTML(render_html(**render_inputs))"
   ]
  },
  {
   "cell_type": "markdown",
   "metadata": {},
   "source": [
    "## LaTeX peculiarities\n",
    "\n",
    "- describe the warning and how to silence it\n",
    "- describe what needs to go into the preamble\n",
    "- show one example"
   ]
  },
  {
   "cell_type": "markdown",
   "metadata": {},
   "source": [
    "## Advanced options \n",
    "\n",
    "show one example with where many optional arguments are used at once\n",
    "\n",
    "- options dictionary with all standard entries\n",
    "- custom param names\n",
    "- custom col names\n",
    "- custom col groups\n",
    "- custom number format\n",
    "- title\n",
    "\n",
    "everything that is not in this list will be left to the docstring."
   ]
  },
  {
   "cell_type": "code",
   "execution_count": 13,
   "metadata": {},
   "outputs": [],
   "source": [
    "stats_dict = {\n",
    "    \"Observations\": \"n_obs\",\n",
    "    \"R$^2$\": \"rsquared\",\n",
    "    \"Adj. R$^2$\": \"rsquared_adj\",\n",
    "    \"Residual Std. Error\": \"resid_std_err\",\n",
    "    \"F Statistic\": \"fvalue\",\n",
    "    \"show_dof\": True,\n",
    "}"
   ]
  },
  {
   "cell_type": "code",
   "execution_count": null,
   "metadata": {},
   "outputs": [],
   "source": []
  }
 ],
 "metadata": {
  "@webio": {
   "lastCommId": null,
   "lastKernelId": null
  },
  "interpreter": {
   "hash": "5cdb9867252288f10687117449de6ad870b49795ca695c868016dc0022895cce"
  },
  "kernelspec": {
   "display_name": "Python 3 (ipykernel)",
   "language": "python",
   "name": "python3"
  },
  "language_info": {
   "codemirror_mode": {
    "name": "ipython",
    "version": 3
   },
   "file_extension": ".py",
   "mimetype": "text/x-python",
   "name": "python",
   "nbconvert_exporter": "python",
   "pygments_lexer": "ipython3",
   "version": "3.8.13"
  }
 },
 "nbformat": 4,
 "nbformat_minor": 4
}
