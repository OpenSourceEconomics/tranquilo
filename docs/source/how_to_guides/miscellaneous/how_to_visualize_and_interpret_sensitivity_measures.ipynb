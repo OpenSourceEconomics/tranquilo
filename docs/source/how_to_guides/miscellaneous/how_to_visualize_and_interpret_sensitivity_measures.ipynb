{
 "cells": [
  {
   "cell_type": "markdown",
   "id": "hollow-buffalo",
   "metadata": {},
   "source": [
    "# How to visualize and interpret sensitivity measures"
   ]
  },
  {
   "cell_type": "markdown",
   "id": "501fad6b",
   "metadata": {},
   "source": [
    "(to be written.)\n",
    "\n",
    "In case of an urgent request for this guide, feel free to open an issue \n",
    "[here](https://github.com/OpenSourceEconomics/estimagic/issues)."
   ]
  }
 ],
 "metadata": {
  "kernelspec": {
   "display_name": "Python 3 (ipykernel)",
   "language": "python",
   "name": "python3"
  },
  "language_info": {
   "codemirror_mode": {
    "name": "ipython",
    "version": 3
   },
   "file_extension": ".py",
   "mimetype": "text/x-python",
   "name": "python",
   "nbconvert_exporter": "python",
   "pygments_lexer": "ipython3",
   "version": "3.9.13"
  }
 },
 "nbformat": 4,
 "nbformat_minor": 5
}
