{
 "cells": [
  {
   "cell_type": "markdown",
   "metadata": {},
   "source": [
    "# How to calculate standard errors for likelihood models"
   ]
  },
  {
   "cell_type": "markdown",
   "metadata": {},
   "source": [
    "(to be written.)\n",
    "\n",
    "In case of an urgent request for this guide, feel free to open an issue \n",
    "[here](https://github.com/OpenSourceEconomics/estimagic/issues)."
   ]
  }
 ],
 "metadata": {
  "kernelspec": {
   "display_name": "Python 3 (ipykernel)",
   "language": "python",
   "name": "python3"
  },
  "language_info": {
   "codemirror_mode": {
    "name": "ipython",
    "version": 3
   },
   "file_extension": ".py",
   "mimetype": "text/x-python",
   "name": "python",
   "nbconvert_exporter": "python",
   "pygments_lexer": "ipython3",
   "version": "3.9.13"
  }
 },
 "nbformat": 4,
 "nbformat_minor": 2
}
