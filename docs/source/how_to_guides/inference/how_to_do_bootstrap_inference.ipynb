{
 "cells": [
  {
   "cell_type": "code",
   "execution_count": 1,
   "metadata": {},
   "outputs": [],
   "source": [
    "import pandas as pd\n",
    "import seaborn as sns\n",
    "import statsmodels.api as sm"
   ]
  },
  {
   "cell_type": "markdown",
   "metadata": {},
   "source": [
    "# Bootstrap Tutorial\n",
    "\n",
    "This notebook contains a tutorial on how to use the bootstrap functionality provided by estimagic. We start with the simplest possible example of calculating standard errors and confidence intervals for an OLS estimator without as well as with clustering. Then we progress to more advanced examples.\n",
    "\n",
    "In the example here, we will work with the \"exercise\" example dataset taken from the seaborn library.\n",
    "\n",
    "The working example will be a linear regression to investigate the effects of exercise time on pulse."
   ]
  },
  {
   "cell_type": "markdown",
   "metadata": {},
   "source": [
    "## Prepare the dataset"
   ]
  },
  {
   "cell_type": "code",
   "execution_count": 2,
   "metadata": {},
   "outputs": [
    {
     "data": {
      "text/html": [
       "<div>\n",
       "<style scoped>\n",
       "    .dataframe tbody tr th:only-of-type {\n",
       "        vertical-align: middle;\n",
       "    }\n",
       "\n",
       "    .dataframe tbody tr th {\n",
       "        vertical-align: top;\n",
       "    }\n",
       "\n",
       "    .dataframe thead th {\n",
       "        text-align: right;\n",
       "    }\n",
       "</style>\n",
       "<table border=\"1\" class=\"dataframe\">\n",
       "  <thead>\n",
       "    <tr style=\"text-align: right;\">\n",
       "      <th></th>\n",
       "      <th>id</th>\n",
       "      <th>diet</th>\n",
       "      <th>pulse</th>\n",
       "      <th>time</th>\n",
       "      <th>kind</th>\n",
       "      <th>constant</th>\n",
       "    </tr>\n",
       "  </thead>\n",
       "  <tbody>\n",
       "    <tr>\n",
       "      <th>0</th>\n",
       "      <td>1</td>\n",
       "      <td>low fat</td>\n",
       "      <td>85</td>\n",
       "      <td>1</td>\n",
       "      <td>rest</td>\n",
       "      <td>1</td>\n",
       "    </tr>\n",
       "    <tr>\n",
       "      <th>1</th>\n",
       "      <td>1</td>\n",
       "      <td>low fat</td>\n",
       "      <td>85</td>\n",
       "      <td>15</td>\n",
       "      <td>rest</td>\n",
       "      <td>1</td>\n",
       "    </tr>\n",
       "    <tr>\n",
       "      <th>2</th>\n",
       "      <td>1</td>\n",
       "      <td>low fat</td>\n",
       "      <td>88</td>\n",
       "      <td>30</td>\n",
       "      <td>rest</td>\n",
       "      <td>1</td>\n",
       "    </tr>\n",
       "    <tr>\n",
       "      <th>3</th>\n",
       "      <td>2</td>\n",
       "      <td>low fat</td>\n",
       "      <td>90</td>\n",
       "      <td>1</td>\n",
       "      <td>rest</td>\n",
       "      <td>1</td>\n",
       "    </tr>\n",
       "    <tr>\n",
       "      <th>4</th>\n",
       "      <td>2</td>\n",
       "      <td>low fat</td>\n",
       "      <td>92</td>\n",
       "      <td>15</td>\n",
       "      <td>rest</td>\n",
       "      <td>1</td>\n",
       "    </tr>\n",
       "  </tbody>\n",
       "</table>\n",
       "</div>"
      ],
      "text/plain": [
       "   id     diet  pulse time  kind  constant\n",
       "0   1  low fat     85    1  rest         1\n",
       "1   1  low fat     85   15  rest         1\n",
       "2   1  low fat     88   30  rest         1\n",
       "3   2  low fat     90    1  rest         1\n",
       "4   2  low fat     92   15  rest         1"
      ]
     },
     "execution_count": 2,
     "metadata": {},
     "output_type": "execute_result"
    }
   ],
   "source": [
    "df = sns.load_dataset(\"exercise\", index_col=0)\n",
    "replacements = {\"1 min\": 1, \"15 min\": 15, \"30 min\": 30}\n",
    "df = df.replace({\"time\": replacements})\n",
    "df[\"constant\"] = 1\n",
    "\n",
    "df.head()"
   ]
  },
  {
   "cell_type": "markdown",
   "metadata": {},
   "source": [
    "## Doing a very simple bootstrap"
   ]
  },
  {
   "cell_type": "markdown",
   "metadata": {},
   "source": [
    "The first thing we need is a function that calculates the bootstrap outcome, given an empirical or re-sampled dataset. The bootstrap outcome is the quantity for which you want to calculate standard errors and confidence intervals. In most applications those are just parameter estimates.\n",
    "\n",
    "In our case, we want to regress \"pulse\" on \"time\" and a constant. Our outcome function looks as follows:"
   ]
  },
  {
   "cell_type": "code",
   "execution_count": 3,
   "metadata": {},
   "outputs": [],
   "source": [
    "def ols_fit(data):\n",
    "    y = data[\"pulse\"]\n",
    "    x = data[[\"constant\", \"time\"]]\n",
    "    params = sm.OLS(y, x).fit().params\n",
    "\n",
    "    return params"
   ]
  },
  {
   "cell_type": "markdown",
   "metadata": {},
   "source": [
    "In general, the user-specified outcome function may return any pytree (e.g. numpy.ndarray, pandas.DataFrame, dict etc.). In the example here, it returns a pandas.Series."
   ]
  },
  {
   "cell_type": "markdown",
   "metadata": {},
   "source": [
    "Now we are ready to calculate confidence intervals and standard errors."
   ]
  },
  {
   "cell_type": "code",
   "execution_count": 4,
   "metadata": {},
   "outputs": [
    {
     "data": {
      "text/plain": [
       "(constant    90.889924\n",
       " time         0.143938\n",
       " dtype: float64,\n",
       " constant    96.701376\n",
       " time         0.647134\n",
       " dtype: float64)"
      ]
     },
     "execution_count": 4,
     "metadata": {},
     "output_type": "execute_result"
    }
   ],
   "source": [
    "from estimagic.inference import bootstrap\n",
    "\n",
    "results_without_cluster = bootstrap(data=df, outcome=ols_fit)\n",
    "results_without_cluster.ci()"
   ]
  },
  {
   "cell_type": "code",
   "execution_count": 5,
   "metadata": {},
   "outputs": [
    {
     "data": {
      "text/plain": [
       "constant    1.491852\n",
       "time        0.128982\n",
       "dtype: float64"
      ]
     },
     "execution_count": 5,
     "metadata": {},
     "output_type": "execute_result"
    }
   ],
   "source": [
    "results_without_cluster.se()"
   ]
  },
  {
   "cell_type": "markdown",
   "metadata": {},
   "source": [
    "The above function call represents the minimum that a user has to specify, making full use of the default options, such as drawing a 1_000 bootstrap draws, using the \"percentile\" bootstrap confidence interval, not making use of parallelization, etc.\n",
    "\n",
    "If we would, for example, want to take 10_000 draws, while parallelizing on two cores, and using a \"bc\" type confidence interval, we would simply call the following:"
   ]
  },
  {
   "cell_type": "code",
   "execution_count": 6,
   "metadata": {},
   "outputs": [
    {
     "data": {
      "text/plain": [
       "(constant    91.344758\n",
       " time         0.200908\n",
       " dtype: float64,\n",
       " constant    96.282862\n",
       " time         0.610949\n",
       " dtype: float64)"
      ]
     },
     "execution_count": 6,
     "metadata": {},
     "output_type": "execute_result"
    }
   ],
   "source": [
    "results_without_cluster2 = bootstrap(\n",
    "    data=df, outcome=ols_fit, n_draws=10_000, n_cores=2\n",
    ")\n",
    "\n",
    "results_without_cluster2.ci(ci_method=\"bc\")"
   ]
  },
  {
   "cell_type": "markdown",
   "metadata": {},
   "source": [
    "## Doing a clustered bootstrap"
   ]
  },
  {
   "cell_type": "markdown",
   "metadata": {},
   "source": [
    "In the cluster robust variant of the bootstrap, the original dataset is divided into clusters according to the values of some user-specified variable, and then clusters are drawn uniformly with replacement in order to create the different bootstrap samples. \n",
    "\n",
    "In order to use the cluster robust boostrap, we simply specify which variable to cluster by. In the example we are working with, it seems sensible to cluster on individuals, i.e. on the column \"id\" of our dataset."
   ]
  },
  {
   "cell_type": "code",
   "execution_count": 7,
   "metadata": {},
   "outputs": [
    {
     "data": {
      "text/plain": [
       "constant    1.176006\n",
       "time        0.100272\n",
       "dtype: float64"
      ]
     },
     "execution_count": 7,
     "metadata": {},
     "output_type": "execute_result"
    }
   ],
   "source": [
    "results_with_cluster = bootstrap(data=df, outcome=ols_fit, cluster_by=\"id\")\n",
    "\n",
    "results_with_cluster.se()"
   ]
  },
  {
   "cell_type": "markdown",
   "metadata": {},
   "source": [
    "We can see that the estimated standard errors are indeed of smaller magnitude when we use the cluster robust bootstrap. \n",
    "\n",
    "Finally, we can compare our bootstrap results to a regression on the full sample using statsmodels' OLS function.\n",
    "We see that the cluster robust bootstrap yields standard error estimates very close to the ones of the cluster robust regression, while the regular bootstrap seems to overestimate the standard errors of both coefficients.\n",
    "\n",
    "**Note**: We would not expect the asymptotic statsmodels standard errors to be exactly the same as the bootstrapped standard errors.\n"
   ]
  },
  {
   "cell_type": "code",
   "execution_count": 8,
   "metadata": {},
   "outputs": [
    {
     "name": "stdout",
     "output_type": "stream",
     "text": [
      "                            OLS Regression Results                            \n",
      "==============================================================================\n",
      "Dep. Variable:                  pulse   R-squared:                       0.096\n",
      "Model:                            OLS   Adj. R-squared:                  0.086\n",
      "Method:                 Least Squares   F-statistic:                     13.75\n",
      "Date:                Tue, 21 Jun 2022   Prob (F-statistic):           0.000879\n",
      "Time:                        11:01:55   Log-Likelihood:                -365.51\n",
      "No. Observations:                  90   AIC:                             735.0\n",
      "Df Residuals:                      88   BIC:                             740.0\n",
      "Df Model:                           1                                         \n",
      "Covariance Type:              cluster                                         \n",
      "==============================================================================\n",
      "                 coef    std err          z      P>|z|      [0.025      0.975]\n",
      "------------------------------------------------------------------------------\n",
      "constant      93.7611      1.205     77.837      0.000      91.400      96.122\n",
      "time           0.3873      0.104      3.708      0.000       0.183       0.592\n",
      "==============================================================================\n",
      "Omnibus:                       20.828   Durbin-Watson:                   0.827\n",
      "Prob(Omnibus):                  0.000   Jarque-Bera (JB):               26.313\n",
      "Skew:                           1.173   Prob(JB):                     1.93e-06\n",
      "Kurtosis:                       4.231   Cond. No.                         31.7\n",
      "==============================================================================\n",
      "\n",
      "Notes:\n",
      "[1] Standard Errors are robust to cluster correlation (cluster)\n"
     ]
    }
   ],
   "source": [
    "y = df[\"pulse\"]\n",
    "x = df[[\"constant\", \"time\"]]\n",
    "\n",
    "\n",
    "cluster_robust_ols = sm.OLS(y, x).fit(cov_type=\"cluster\", cov_kwds={\"groups\": df[\"id\"]})\n",
    "\n",
    "print(cluster_robust_ols.summary())"
   ]
  },
  {
   "cell_type": "markdown",
   "metadata": {},
   "source": [
    "## Splitting up the process"
   ]
  },
  {
   "cell_type": "markdown",
   "metadata": {},
   "source": [
    "In many situations, the above procedure is enough. However, sometimes it may be important to split the bootstrapping process up into smaller steps. Examples for such situations are:\n",
    "\n",
    "- You want to look at the bootstrap estimates\n",
    "- You want to do a bootstrap with a low number of draws first and add more draws later without duplicated calculations\n",
    "- You have more bootstrap outcomes than just the parameters\n",
    "\n",
    "### Accessing bootstrap outcomes\n",
    "\n",
    "The bootstrap outcomes are stored in the results object you get back when calling the bootstrap function. "
   ]
  },
  {
   "cell_type": "code",
   "execution_count": 9,
   "metadata": {},
   "outputs": [
    {
     "data": {
      "text/plain": [
       "[constant    92.377004\n",
       " time         0.465963\n",
       " dtype: float64,\n",
       " constant    94.549027\n",
       " time         0.219700\n",
       " dtype: float64,\n",
       " constant    94.171886\n",
       " time         0.298749\n",
       " dtype: float64,\n",
       " constant    94.087851\n",
       " time         0.346593\n",
       " dtype: float64,\n",
       " constant    93.624816\n",
       " time         0.466219\n",
       " dtype: float64]"
      ]
     },
     "execution_count": 9,
     "metadata": {},
     "output_type": "execute_result"
    }
   ],
   "source": [
    "result = bootstrap(data=df, outcome=ols_fit, seed=1234)\n",
    "my_outcomes = result.outcomes\n",
    "\n",
    "my_outcomes[:5]"
   ]
  },
  {
   "cell_type": "markdown",
   "metadata": {},
   "source": [
    "To further compare the cluster bootstrap to the uniform bootstrap, let's plot the sampling distribution of the parameters on time. We can again see that the standard error is smaller when we cluster on the subject id. "
   ]
  },
  {
   "cell_type": "code",
   "execution_count": 10,
   "metadata": {},
   "outputs": [],
   "source": [
    "result_clustered = bootstrap(data=df, outcome=ols_fit, seed=1234, cluster_by=\"id\")\n",
    "my_outcomes_clustered = result_clustered.outcomes"
   ]
  },
  {
   "cell_type": "code",
   "execution_count": 11,
   "metadata": {},
   "outputs": [
    {
     "data": {
      "image/png": "[encoded data removed]",
      "text/plain": [
       "<Figure size 432x288 with 1 Axes>"
      ]
     },
     "metadata": {
      "needs_background": "light"
     },
     "output_type": "display_data"
    }
   ],
   "source": [
    "# clustered distribution in blue\n",
    "sns.histplot(\n",
    "    pd.DataFrame(my_outcomes_clustered)[\"time\"], kde=True, stat=\"density\", linewidth=0\n",
    ")\n",
    "\n",
    "# non-clustered distribution in orange\n",
    "sns.histplot(\n",
    "    pd.DataFrame(my_outcomes)[\"time\"],\n",
    "    kde=True,\n",
    "    stat=\"density\",\n",
    "    linewidth=0,\n",
    "    color=\"orange\",\n",
    ")"
   ]
  },
  {
   "cell_type": "markdown",
   "metadata": {},
   "source": [
    "### Calculating standard errors and confidence intervals from existing outcomes"
   ]
  },
  {
   "cell_type": "markdown",
   "metadata": {},
   "source": [
    "Once we have the outcomes, we can compute confidence intervals and standard errors from them"
   ]
  },
  {
   "cell_type": "code",
   "execution_count": 12,
   "metadata": {},
   "outputs": [
    {
     "data": {
      "text/plain": [
       "(constant    90.756341\n",
       " time         0.122825\n",
       " dtype: float64,\n",
       " constant    96.637964\n",
       " time         0.617271\n",
       " dtype: float64)"
      ]
     },
     "execution_count": 12,
     "metadata": {},
     "output_type": "execute_result"
    }
   ],
   "source": [
    "my_results = bootstrap(\n",
    "    data=df,\n",
    "    outcome=ols_fit,\n",
    "    existing_outcomes=my_outcomes,\n",
    ")\n",
    "my_results.ci(ci_method=\"t\")"
   ]
  },
  {
   "cell_type": "markdown",
   "metadata": {},
   "source": [
    "You can use this to calculate confidence intervals with several methods (e.g. \"percentile\" and \"bc\") without duplicated evaluations of the bootstrap outcome function."
   ]
  },
  {
   "cell_type": "markdown",
   "metadata": {},
   "source": [
    "## Extending bootstrap results with more draws\n",
    "\n",
    "It is often the case that for speed reasons you set the number of bootstrap draws quite low, so you can look at results earlier and later decide that you need more draws. \n",
    "\n",
    "In the long run, we will offer a Dashboard integration for this. For now, you can do it manually.\n",
    "\n",
    "As an example we will take `my_outcomes` defined above and extend it with another 500 draws. \n",
    "\n",
    "Note: It is very important to use a different random seed when you calculate the additional outcomes!!!"
   ]
  },
  {
   "cell_type": "code",
   "execution_count": 13,
   "metadata": {},
   "outputs": [],
   "source": [
    "more_outcomes = bootstrap(data=df, outcome=ols_fit, seed=5471, n_draws=500).outcomes\n",
    "\n",
    "combined_outcomes = my_outcomes + more_outcomes"
   ]
  },
  {
   "cell_type": "code",
   "execution_count": 14,
   "metadata": {},
   "outputs": [
    {
     "data": {
      "text/plain": [
       "(constant    90.791794\n",
       " time         0.124142\n",
       " dtype: float64,\n",
       " constant    96.688548\n",
       " time         0.619296\n",
       " dtype: float64)"
      ]
     },
     "execution_count": 14,
     "metadata": {},
     "output_type": "execute_result"
    }
   ],
   "source": [
    "combined_results = bootstrap(\n",
    "    data=df,\n",
    "    outcome=ols_fit,\n",
    "    existing_outcomes=combined_outcomes,\n",
    ")\n",
    "combined_results.ci(ci_method=\"t\")"
   ]
  },
  {
   "cell_type": "markdown",
   "metadata": {},
   "source": [
    "## Accessing the bootstrap samples"
   ]
  },
  {
   "cell_type": "markdown",
   "metadata": {},
   "source": [
    "It is also possible to just access the bootstrap samples. You may do so, for example, if you want to calculate your bootstrap outcomes in parallel in a way that is not yet supported by estimagic (e.g. on a large cluster or super-computer)."
   ]
  },
  {
   "cell_type": "code",
   "execution_count": 15,
   "metadata": {},
   "outputs": [
    {
     "data": {
      "text/html": [
       "<div>\n",
       "<style scoped>\n",
       "    .dataframe tbody tr th:only-of-type {\n",
       "        vertical-align: middle;\n",
       "    }\n",
       "\n",
       "    .dataframe tbody tr th {\n",
       "        vertical-align: top;\n",
       "    }\n",
       "\n",
       "    .dataframe thead th {\n",
       "        text-align: right;\n",
       "    }\n",
       "</style>\n",
       "<table border=\"1\" class=\"dataframe\">\n",
       "  <thead>\n",
       "    <tr style=\"text-align: right;\">\n",
       "      <th></th>\n",
       "      <th>id</th>\n",
       "      <th>diet</th>\n",
       "      <th>pulse</th>\n",
       "      <th>time</th>\n",
       "      <th>kind</th>\n",
       "      <th>constant</th>\n",
       "    </tr>\n",
       "  </thead>\n",
       "  <tbody>\n",
       "    <tr>\n",
       "      <th>47</th>\n",
       "      <td>16</td>\n",
       "      <td>no fat</td>\n",
       "      <td>89</td>\n",
       "      <td>30</td>\n",
       "      <td>walking</td>\n",
       "      <td>1</td>\n",
       "    </tr>\n",
       "    <tr>\n",
       "      <th>83</th>\n",
       "      <td>28</td>\n",
       "      <td>no fat</td>\n",
       "      <td>140</td>\n",
       "      <td>30</td>\n",
       "      <td>running</td>\n",
       "      <td>1</td>\n",
       "    </tr>\n",
       "    <tr>\n",
       "      <th>38</th>\n",
       "      <td>13</td>\n",
       "      <td>low fat</td>\n",
       "      <td>93</td>\n",
       "      <td>30</td>\n",
       "      <td>walking</td>\n",
       "      <td>1</td>\n",
       "    </tr>\n",
       "    <tr>\n",
       "      <th>53</th>\n",
       "      <td>18</td>\n",
       "      <td>no fat</td>\n",
       "      <td>101</td>\n",
       "      <td>30</td>\n",
       "      <td>walking</td>\n",
       "      <td>1</td>\n",
       "    </tr>\n",
       "    <tr>\n",
       "      <th>76</th>\n",
       "      <td>26</td>\n",
       "      <td>no fat</td>\n",
       "      <td>126</td>\n",
       "      <td>15</td>\n",
       "      <td>running</td>\n",
       "      <td>1</td>\n",
       "    </tr>\n",
       "    <tr>\n",
       "      <th>...</th>\n",
       "      <td>...</td>\n",
       "      <td>...</td>\n",
       "      <td>...</td>\n",
       "      <td>...</td>\n",
       "      <td>...</td>\n",
       "      <td>...</td>\n",
       "    </tr>\n",
       "    <tr>\n",
       "      <th>0</th>\n",
       "      <td>1</td>\n",
       "      <td>low fat</td>\n",
       "      <td>85</td>\n",
       "      <td>1</td>\n",
       "      <td>rest</td>\n",
       "      <td>1</td>\n",
       "    </tr>\n",
       "    <tr>\n",
       "      <th>33</th>\n",
       "      <td>12</td>\n",
       "      <td>low fat</td>\n",
       "      <td>93</td>\n",
       "      <td>1</td>\n",
       "      <td>walking</td>\n",
       "      <td>1</td>\n",
       "    </tr>\n",
       "    <tr>\n",
       "      <th>21</th>\n",
       "      <td>8</td>\n",
       "      <td>no fat</td>\n",
       "      <td>92</td>\n",
       "      <td>1</td>\n",
       "      <td>rest</td>\n",
       "      <td>1</td>\n",
       "    </tr>\n",
       "    <tr>\n",
       "      <th>71</th>\n",
       "      <td>24</td>\n",
       "      <td>low fat</td>\n",
       "      <td>120</td>\n",
       "      <td>30</td>\n",
       "      <td>running</td>\n",
       "      <td>1</td>\n",
       "    </tr>\n",
       "    <tr>\n",
       "      <th>68</th>\n",
       "      <td>23</td>\n",
       "      <td>low fat</td>\n",
       "      <td>99</td>\n",
       "      <td>30</td>\n",
       "      <td>running</td>\n",
       "      <td>1</td>\n",
       "    </tr>\n",
       "  </tbody>\n",
       "</table>\n",
       "<p>90 rows × 6 columns</p>\n",
       "</div>"
      ],
      "text/plain": [
       "    id     diet  pulse time     kind  constant\n",
       "47  16   no fat     89   30  walking         1\n",
       "83  28   no fat    140   30  running         1\n",
       "38  13  low fat     93   30  walking         1\n",
       "53  18   no fat    101   30  walking         1\n",
       "76  26   no fat    126   15  running         1\n",
       "..  ..      ...    ...  ...      ...       ...\n",
       "0    1  low fat     85    1     rest         1\n",
       "33  12  low fat     93    1  walking         1\n",
       "21   8   no fat     92    1     rest         1\n",
       "71  24  low fat    120   30  running         1\n",
       "68  23  low fat     99   30  running         1\n",
       "\n",
       "[90 rows x 6 columns]"
      ]
     },
     "execution_count": 15,
     "metadata": {},
     "output_type": "execute_result"
    }
   ],
   "source": [
    "from estimagic.inference import get_bootstrap_samples\n",
    "\n",
    "my_samples = get_bootstrap_samples(data=df, seed=1234)\n",
    "\n",
    "my_samples[0]"
   ]
  }
 ],
 "metadata": {
  "interpreter": {
   "hash": "5cdb9867252288f10687117449de6ad870b49795ca695c868016dc0022895cce"
  },
  "kernelspec": {
   "display_name": "Python 3 (ipykernel)",
   "language": "python",
   "name": "python3"
  },
  "language_info": {
   "codemirror_mode": {
    "name": "ipython",
    "version": 3
   },
   "file_extension": ".py",
   "mimetype": "text/x-python",
   "name": "python",
   "nbconvert_exporter": "python",
   "pygments_lexer": "ipython3",
   "version": "3.9.13"
  }
 },
 "nbformat": 4,
 "nbformat_minor": 4
}
