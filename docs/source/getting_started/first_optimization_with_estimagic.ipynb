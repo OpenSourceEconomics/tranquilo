{
 "cells": [
  {
   "cell_type": "code",
   "execution_count": 26,
   "source": [
    "import numpy as np\n",
    "import pandas as pd\n",
    "\n",
    "from estimagic import minimize\n",
    "from estimagic.logging.read_log import read_optimization_iteration"
   ],
   "outputs": [],
   "metadata": {}
  },
  {
   "cell_type": "markdown",
   "source": [
    "# First Optimization with estimagic\n",
    "\n",
    "This tutorial shows how to do an optimization with estimagic. It uses a very simple criterion function in order to focus on the mechanics of doing an optimization. More details on the topics covered here can be found in the [how to guides](../how_to_guides/index.rst)."
   ],
   "metadata": {}
  },
  {
   "cell_type": "markdown",
   "source": [
    "## Setting up criterion function and derivatives\n",
    "\n",
    "Criterion functions in estimagic take a DataFrame with parameters as first argument and return a dictionary that contains the output of the criterion function. \n",
    "\n",
    "The output dictionary must contain the entry \"value\", which is a scalar but can also contain an arbitrary number of additional entries. Entries with special meaning are \"contributions\" and \"root_contributions\", which are used by specialized optimizers (e.g. nonlinear least squares optimizers use the \"root_contributions\"). All other entries are simply stored in a log file. If none of the optional entries are required, the criterion function can also simply return a scalar. "
   ],
   "metadata": {}
  },
  {
   "cell_type": "code",
   "execution_count": 27,
   "source": [
    "def sphere(params):\n",
    "    \"\"\"Spherical criterion function.\n",
    "\n",
    "    The unique local and global optimum of this function is at\n",
    "    the zero vector. It is differentiable, convex and extremely\n",
    "    well behaved in any possible sense.\n",
    "\n",
    "    Args:\n",
    "        params (pandas.DataFrame): DataFrame with the columns\n",
    "            \"value\", \"lower_bound\", \"upper_bound\" and potentially more.\n",
    "\n",
    "    Returns:\n",
    "        dict: A dictionary with the entries \"value\" and \"root_contributions\".\n",
    "\n",
    "    \"\"\"\n",
    "    out = {\n",
    "        \"value\": (params[\"value\"] ** 2).sum(),\n",
    "        \"root_contributions\": params[\"value\"],\n",
    "    }\n",
    "    return out\n",
    "\n",
    "\n",
    "def sphere_gradient(params):\n",
    "    \"\"\"Gradient of spherical criterion function\"\"\"\n",
    "    return params[\"value\"] * 2"
   ],
   "outputs": [],
   "metadata": {}
  },
  {
   "cell_type": "markdown",
   "source": [
    "## Setting up start parameters\n",
    "\n",
    "The start parameters must contain the column \"value\" but can also contain an arbitrary number of other columns. Columns with special meaning are \"lower_bound\", \"upper_bound\", \"name\" and \"group\". The bounds are used during optimization, name and group are used in the dashboard. \n",
    "\n",
    "They can have an arbitrary index or even MultiIndex. This is very helpful to organize parameters in a complex optimization problem. "
   ],
   "metadata": {}
  },
  {
   "cell_type": "code",
   "execution_count": 28,
   "source": [
    "start_params = pd.DataFrame(\n",
    "    data=np.arange(5) + 1,\n",
    "    columns=[\"value\"],\n",
    "    index=[f\"x_{i}\" for i in range(5)],\n",
    ")\n",
    "start_params"
   ],
   "outputs": [
    {
     "output_type": "execute_result",
     "data": {
      "text/html": [
       "<div>\n",
       "<style scoped>\n",
       "    .dataframe tbody tr th:only-of-type {\n",
       "        vertical-align: middle;\n",
       "    }\n",
       "\n",
       "    .dataframe tbody tr th {\n",
       "        vertical-align: top;\n",
       "    }\n",
       "\n",
       "    .dataframe thead th {\n",
       "        text-align: right;\n",
       "    }\n",
       "</style>\n",
       "<table border=\"1\" class=\"dataframe\">\n",
       "  <thead>\n",
       "    <tr style=\"text-align: right;\">\n",
       "      <th></th>\n",
       "      <th>value</th>\n",
       "    </tr>\n",
       "  </thead>\n",
       "  <tbody>\n",
       "    <tr>\n",
       "      <th>x_0</th>\n",
       "      <td>1</td>\n",
       "    </tr>\n",
       "    <tr>\n",
       "      <th>x_1</th>\n",
       "      <td>2</td>\n",
       "    </tr>\n",
       "    <tr>\n",
       "      <th>x_2</th>\n",
       "      <td>3</td>\n",
       "    </tr>\n",
       "    <tr>\n",
       "      <th>x_3</th>\n",
       "      <td>4</td>\n",
       "    </tr>\n",
       "    <tr>\n",
       "      <th>x_4</th>\n",
       "      <td>5</td>\n",
       "    </tr>\n",
       "  </tbody>\n",
       "</table>\n",
       "</div>"
      ],
      "text/plain": [
       "     value\n",
       "x_0      1\n",
       "x_1      2\n",
       "x_2      3\n",
       "x_3      4\n",
       "x_4      5"
      ]
     },
     "metadata": {},
     "execution_count": 28
    }
   ],
   "metadata": {}
  },
  {
   "cell_type": "markdown",
   "source": [
    "## Running a simple optimization\n",
    "\n",
    "Estimagic's `minimize` function works similarly to scipy's `minimize` function. A big difference is however, that estimagic does not have a default optimization algorithm. This is on purpose, because the algorithm choice should always be dependent on the problem one wants to solve. \n",
    "\n",
    "Another difference is that estimagic also has a `maximize` function that works exactly as `minimize`, but does a maximization. \n",
    "\n",
    "The output of `minimize` is a dictionary, that contains the solution parameters and criterion values as well as other information. "
   ],
   "metadata": {}
  },
  {
   "cell_type": "code",
   "execution_count": 29,
   "source": [
    "res = minimize(\n",
    "    criterion=sphere,\n",
    "    params=start_params,\n",
    "    algorithm=\"scipy_lbfgsb\",\n",
    "    derivative=sphere_gradient,\n",
    ")\n",
    "res"
   ],
   "outputs": [
    {
     "output_type": "execute_result",
     "data": {
      "text/plain": [
       "{'solution_x': array([ 1.11022302e-16,  2.22044605e-16,  0.00000000e+00,  4.44089210e-16,\n",
       "        -8.88178420e-16]),\n",
       " 'solution_criterion': 1.0477058897466563e-30,\n",
       " 'solution_derivative': array([ 2.22044605e-16,  4.44089210e-16,  0.00000000e+00,  8.88178420e-16,\n",
       "        -1.77635684e-15]),\n",
       " 'solution_hessian': None,\n",
       " 'n_criterion_evaluations': 3,\n",
       " 'n_derivative_evaluations': None,\n",
       " 'n_iterations': 2,\n",
       " 'success': True,\n",
       " 'reached_convergence_criterion': None,\n",
       " 'message': b'CONVERGENCE: NORM_OF_PROJECTED_GRADIENT_<=_PGTOL',\n",
       " 'solution_params':      lower_bound  upper_bound         value\n",
       " x_0         -inf          inf  1.110223e-16\n",
       " x_1         -inf          inf  2.220446e-16\n",
       " x_2         -inf          inf  0.000000e+00\n",
       " x_3         -inf          inf  4.440892e-16\n",
       " x_4         -inf          inf -8.881784e-16}"
      ]
     },
     "metadata": {},
     "execution_count": 29
    }
   ],
   "metadata": {}
  },
  {
   "cell_type": "code",
   "execution_count": 19,
   "source": [
    "res[\"solution_params\"].round(6)"
   ],
   "outputs": [
    {
     "output_type": "execute_result",
     "data": {
      "text/html": [
       "<div>\n",
       "<style scoped>\n",
       "    .dataframe tbody tr th:only-of-type {\n",
       "        vertical-align: middle;\n",
       "    }\n",
       "\n",
       "    .dataframe tbody tr th {\n",
       "        vertical-align: top;\n",
       "    }\n",
       "\n",
       "    .dataframe thead th {\n",
       "        text-align: right;\n",
       "    }\n",
       "</style>\n",
       "<table border=\"1\" class=\"dataframe\">\n",
       "  <thead>\n",
       "    <tr style=\"text-align: right;\">\n",
       "      <th></th>\n",
       "      <th>lower_bound</th>\n",
       "      <th>upper_bound</th>\n",
       "      <th>value</th>\n",
       "    </tr>\n",
       "  </thead>\n",
       "  <tbody>\n",
       "    <tr>\n",
       "      <th>x_0</th>\n",
       "      <td>-inf</td>\n",
       "      <td>inf</td>\n",
       "      <td>0.0</td>\n",
       "    </tr>\n",
       "    <tr>\n",
       "      <th>x_1</th>\n",
       "      <td>-inf</td>\n",
       "      <td>inf</td>\n",
       "      <td>0.0</td>\n",
       "    </tr>\n",
       "    <tr>\n",
       "      <th>x_2</th>\n",
       "      <td>-inf</td>\n",
       "      <td>inf</td>\n",
       "      <td>0.0</td>\n",
       "    </tr>\n",
       "    <tr>\n",
       "      <th>x_3</th>\n",
       "      <td>-inf</td>\n",
       "      <td>inf</td>\n",
       "      <td>0.0</td>\n",
       "    </tr>\n",
       "    <tr>\n",
       "      <th>x_4</th>\n",
       "      <td>-inf</td>\n",
       "      <td>inf</td>\n",
       "      <td>-0.0</td>\n",
       "    </tr>\n",
       "  </tbody>\n",
       "</table>\n",
       "</div>"
      ],
      "text/plain": [
       "     lower_bound  upper_bound  value\n",
       "x_0         -inf          inf    0.0\n",
       "x_1         -inf          inf    0.0\n",
       "x_2         -inf          inf    0.0\n",
       "x_3         -inf          inf    0.0\n",
       "x_4         -inf          inf   -0.0"
      ]
     },
     "metadata": {},
     "execution_count": 19
    }
   ],
   "metadata": {}
  },
  {
   "cell_type": "markdown",
   "source": [
    "## Running an optimization with a least squares optimizer\n",
    "\n",
    "Using a least squares optimizer in estimagic is exactly the same as using another optimizer. That is the goal and result of allowing the output of the criterion function to be a dictionary. "
   ],
   "metadata": {}
  },
  {
   "cell_type": "code",
   "execution_count": 20,
   "source": [
    "res = minimize(\n",
    "    criterion=sphere,\n",
    "    params=start_params,\n",
    "    algorithm=\"tao_pounders\",\n",
    "    derivative=sphere_gradient,\n",
    ")\n",
    "res[\"solution_params\"].round(2)"
   ],
   "outputs": [
    {
     "output_type": "execute_result",
     "data": {
      "text/html": [
       "<div>\n",
       "<style scoped>\n",
       "    .dataframe tbody tr th:only-of-type {\n",
       "        vertical-align: middle;\n",
       "    }\n",
       "\n",
       "    .dataframe tbody tr th {\n",
       "        vertical-align: top;\n",
       "    }\n",
       "\n",
       "    .dataframe thead th {\n",
       "        text-align: right;\n",
       "    }\n",
       "</style>\n",
       "<table border=\"1\" class=\"dataframe\">\n",
       "  <thead>\n",
       "    <tr style=\"text-align: right;\">\n",
       "      <th></th>\n",
       "      <th>lower_bound</th>\n",
       "      <th>upper_bound</th>\n",
       "      <th>value</th>\n",
       "    </tr>\n",
       "  </thead>\n",
       "  <tbody>\n",
       "    <tr>\n",
       "      <th>x_0</th>\n",
       "      <td>-inf</td>\n",
       "      <td>inf</td>\n",
       "      <td>0.0</td>\n",
       "    </tr>\n",
       "    <tr>\n",
       "      <th>x_1</th>\n",
       "      <td>-inf</td>\n",
       "      <td>inf</td>\n",
       "      <td>0.0</td>\n",
       "    </tr>\n",
       "    <tr>\n",
       "      <th>x_2</th>\n",
       "      <td>-inf</td>\n",
       "      <td>inf</td>\n",
       "      <td>0.0</td>\n",
       "    </tr>\n",
       "    <tr>\n",
       "      <th>x_3</th>\n",
       "      <td>-inf</td>\n",
       "      <td>inf</td>\n",
       "      <td>0.0</td>\n",
       "    </tr>\n",
       "    <tr>\n",
       "      <th>x_4</th>\n",
       "      <td>-inf</td>\n",
       "      <td>inf</td>\n",
       "      <td>0.0</td>\n",
       "    </tr>\n",
       "  </tbody>\n",
       "</table>\n",
       "</div>"
      ],
      "text/plain": [
       "     lower_bound  upper_bound  value\n",
       "x_0         -inf          inf    0.0\n",
       "x_1         -inf          inf    0.0\n",
       "x_2         -inf          inf    0.0\n",
       "x_3         -inf          inf    0.0\n",
       "x_4         -inf          inf    0.0"
      ]
     },
     "metadata": {},
     "execution_count": 20
    }
   ],
   "metadata": {}
  },
  {
   "cell_type": "markdown",
   "source": [
    "## Available optimizers\n",
    "\n",
    "Which optimizers are available depends on the optional packages you have installed. For an overview check out [this](../how_to_guides/optimization/how_to_specify_algorithm_and_algo_options.rst)."
   ],
   "metadata": {}
  },
  {
   "cell_type": "markdown",
   "source": [
    "## Adding bounds\n",
    "\n",
    "Bounds are simply added as additional columns in the start parameters. If a parameter has no bound, use `np.inf` for upper bounds and `-np.inf` for lower bounds. "
   ],
   "metadata": {}
  },
  {
   "cell_type": "code",
   "execution_count": 21,
   "source": [
    "params_with_bounds = start_params.copy()\n",
    "params_with_bounds[\"lower_bound\"] = [0, 1, 0, -1, 0]\n",
    "params_with_bounds[\"upper_bound\"] = [np.inf] * 5\n",
    "\n",
    "res = minimize(\n",
    "    criterion=sphere,\n",
    "    params=params_with_bounds,\n",
    "    algorithm=\"scipy_lbfgsb\",\n",
    "    derivative=sphere_gradient,\n",
    ")\n",
    "res[\"solution_params\"].round(6)"
   ],
   "outputs": [
    {
     "output_type": "execute_result",
     "data": {
      "text/html": [
       "<div>\n",
       "<style scoped>\n",
       "    .dataframe tbody tr th:only-of-type {\n",
       "        vertical-align: middle;\n",
       "    }\n",
       "\n",
       "    .dataframe tbody tr th {\n",
       "        vertical-align: top;\n",
       "    }\n",
       "\n",
       "    .dataframe thead th {\n",
       "        text-align: right;\n",
       "    }\n",
       "</style>\n",
       "<table border=\"1\" class=\"dataframe\">\n",
       "  <thead>\n",
       "    <tr style=\"text-align: right;\">\n",
       "      <th></th>\n",
       "      <th>lower_bound</th>\n",
       "      <th>upper_bound</th>\n",
       "      <th>value</th>\n",
       "    </tr>\n",
       "  </thead>\n",
       "  <tbody>\n",
       "    <tr>\n",
       "      <th>x_0</th>\n",
       "      <td>0.0</td>\n",
       "      <td>inf</td>\n",
       "      <td>0.0</td>\n",
       "    </tr>\n",
       "    <tr>\n",
       "      <th>x_1</th>\n",
       "      <td>1.0</td>\n",
       "      <td>inf</td>\n",
       "      <td>1.0</td>\n",
       "    </tr>\n",
       "    <tr>\n",
       "      <th>x_2</th>\n",
       "      <td>0.0</td>\n",
       "      <td>inf</td>\n",
       "      <td>0.0</td>\n",
       "    </tr>\n",
       "    <tr>\n",
       "      <th>x_3</th>\n",
       "      <td>-1.0</td>\n",
       "      <td>inf</td>\n",
       "      <td>0.0</td>\n",
       "    </tr>\n",
       "    <tr>\n",
       "      <th>x_4</th>\n",
       "      <td>0.0</td>\n",
       "      <td>inf</td>\n",
       "      <td>0.0</td>\n",
       "    </tr>\n",
       "  </tbody>\n",
       "</table>\n",
       "</div>"
      ],
      "text/plain": [
       "     lower_bound  upper_bound  value\n",
       "x_0          0.0          inf    0.0\n",
       "x_1          1.0          inf    1.0\n",
       "x_2          0.0          inf    0.0\n",
       "x_3         -1.0          inf    0.0\n",
       "x_4          0.0          inf    0.0"
      ]
     },
     "metadata": {},
     "execution_count": 21
    }
   ],
   "metadata": {}
  },
  {
   "cell_type": "markdown",
   "source": [
    "## Fixing parameters via constraints\n",
    "\n",
    "Fixing parameters is very handy in complex optimizations. It is very simple in estimagic:"
   ],
   "metadata": {}
  },
  {
   "cell_type": "code",
   "execution_count": 22,
   "source": [
    "constraints = [{\"loc\": [\"x_0\", \"x_3\"], \"type\": \"fixed\", \"value\": [1, 4]}]\n",
    "res = minimize(\n",
    "    criterion=sphere,\n",
    "    params=start_params,\n",
    "    algorithm=\"tao_pounders\",\n",
    "    derivative=sphere_gradient,\n",
    "    constraints=constraints,\n",
    ")\n",
    "res[\"solution_params\"].round(2)"
   ],
   "outputs": [
    {
     "output_type": "execute_result",
     "data": {
      "text/html": [
       "<div>\n",
       "<style scoped>\n",
       "    .dataframe tbody tr th:only-of-type {\n",
       "        vertical-align: middle;\n",
       "    }\n",
       "\n",
       "    .dataframe tbody tr th {\n",
       "        vertical-align: top;\n",
       "    }\n",
       "\n",
       "    .dataframe thead th {\n",
       "        text-align: right;\n",
       "    }\n",
       "</style>\n",
       "<table border=\"1\" class=\"dataframe\">\n",
       "  <thead>\n",
       "    <tr style=\"text-align: right;\">\n",
       "      <th></th>\n",
       "      <th>lower_bound</th>\n",
       "      <th>upper_bound</th>\n",
       "      <th>value</th>\n",
       "    </tr>\n",
       "  </thead>\n",
       "  <tbody>\n",
       "    <tr>\n",
       "      <th>x_0</th>\n",
       "      <td>-inf</td>\n",
       "      <td>inf</td>\n",
       "      <td>1.0</td>\n",
       "    </tr>\n",
       "    <tr>\n",
       "      <th>x_1</th>\n",
       "      <td>-inf</td>\n",
       "      <td>inf</td>\n",
       "      <td>0.0</td>\n",
       "    </tr>\n",
       "    <tr>\n",
       "      <th>x_2</th>\n",
       "      <td>-inf</td>\n",
       "      <td>inf</td>\n",
       "      <td>0.0</td>\n",
       "    </tr>\n",
       "    <tr>\n",
       "      <th>x_3</th>\n",
       "      <td>-inf</td>\n",
       "      <td>inf</td>\n",
       "      <td>4.0</td>\n",
       "    </tr>\n",
       "    <tr>\n",
       "      <th>x_4</th>\n",
       "      <td>-inf</td>\n",
       "      <td>inf</td>\n",
       "      <td>0.0</td>\n",
       "    </tr>\n",
       "  </tbody>\n",
       "</table>\n",
       "</div>"
      ],
      "text/plain": [
       "     lower_bound  upper_bound  value\n",
       "x_0         -inf          inf    1.0\n",
       "x_1         -inf          inf    0.0\n",
       "x_2         -inf          inf    0.0\n",
       "x_3         -inf          inf    4.0\n",
       "x_4         -inf          inf    0.0"
      ]
     },
     "metadata": {},
     "execution_count": 22
    }
   ],
   "metadata": {}
  },
  {
   "cell_type": "markdown",
   "source": [
    "As you probably suspect, the estimagic constraint syntax is much more general than what we just did. For details see [how to specify constraints](../how_to_guides/optimization/how_to_specify_constraints.rst)"
   ],
   "metadata": {}
  },
  {
   "cell_type": "markdown",
   "source": [
    "## Using and reading persistent logging\n",
    "\n",
    "In fact, we have already been using a persistent log the whole time. It is stored under \"logging.db\" in our working directory. If you want to store it in a different place, you can do that:"
   ],
   "metadata": {}
  },
  {
   "cell_type": "code",
   "execution_count": 23,
   "source": [
    "res = minimize(\n",
    "    criterion=sphere,\n",
    "    params=start_params,\n",
    "    algorithm=\"scipy_lbfgsb\",\n",
    "    derivative=sphere_gradient,\n",
    "    logging=\"my_log.db\",\n",
    ")"
   ],
   "outputs": [],
   "metadata": {}
  },
  {
   "cell_type": "code",
   "execution_count": 24,
   "source": [
    "# the second argument works like an index to a list, i.e.\n",
    "# -1 gives the last entry\n",
    "read_optimization_iteration(\"my_log.db\", -1)"
   ],
   "outputs": [
    {
     "output_type": "execute_result",
     "data": {
      "text/plain": [
       "{'rowid': 12,\n",
       " 'timestamp': datetime.datetime(2021, 1, 12, 17, 33, 36, 376057),\n",
       " 'exceptions': None,\n",
       " 'valid': True,\n",
       " 'hash': None,\n",
       " 'value': 1.0477058897466563e-30,\n",
       " 'root_contributions': x_0    1.110223e-16\n",
       " x_1    2.220446e-16\n",
       " x_2    0.000000e+00\n",
       " x_3    4.440892e-16\n",
       " x_4   -8.881784e-16\n",
       " Name: value, dtype: float64,\n",
       " 'params':      lower_bound  upper_bound         value           group name\n",
       " x_0         -inf          inf  1.110223e-16  All Parameters  x_0\n",
       " x_1         -inf          inf  2.220446e-16  All Parameters  x_1\n",
       " x_2         -inf          inf  0.000000e+00  All Parameters  x_2\n",
       " x_3         -inf          inf  4.440892e-16  All Parameters  x_3\n",
       " x_4         -inf          inf -8.881784e-16  All Parameters  x_4}"
      ]
     },
     "metadata": {},
     "execution_count": 24
    }
   ],
   "metadata": {}
  },
  {
   "cell_type": "markdown",
   "source": [
    "The persistent log file is always instantly synchronized when the optimizer tries a new parameter vector. This is very handy if an optimization has to be aborted and you want to extract the current status. It is also used by the  [estimagic dashboard](../how_to_guides/optimization/how_to_use_the_dashboard.rst). "
   ],
   "metadata": {}
  },
  {
   "cell_type": "markdown",
   "source": [
    "## Passing algorithm specific options to minimize\n",
    "\n",
    "Most algorithms have a few optional arguments. Examples are convergence criteria or tuning parameters. We standardize the names of these options as much as possible, but not all algorithms support all options. You can find an overview of supported arguments [here](../how_to_guides/optimization/how_to_specify_algorithm_and_algo_options.rst)."
   ],
   "metadata": {}
  },
  {
   "cell_type": "code",
   "execution_count": 25,
   "source": [
    "algo_options = {\n",
    "    \"convergence.relative_criterion_tolerance\": 1e-9,\n",
    "    \"stopping.max_iterations\": 100_000,\n",
    "}\n",
    "\n",
    "res = minimize(\n",
    "    criterion=sphere,\n",
    "    params=start_params,\n",
    "    algorithm=\"scipy_lbfgsb\",\n",
    "    derivative=sphere_gradient,\n",
    "    algo_options=algo_options,\n",
    ")\n",
    "res[\"solution_params\"].round(6)"
   ],
   "outputs": [
    {
     "output_type": "execute_result",
     "data": {
      "text/html": [
       "<div>\n",
       "<style scoped>\n",
       "    .dataframe tbody tr th:only-of-type {\n",
       "        vertical-align: middle;\n",
       "    }\n",
       "\n",
       "    .dataframe tbody tr th {\n",
       "        vertical-align: top;\n",
       "    }\n",
       "\n",
       "    .dataframe thead th {\n",
       "        text-align: right;\n",
       "    }\n",
       "</style>\n",
       "<table border=\"1\" class=\"dataframe\">\n",
       "  <thead>\n",
       "    <tr style=\"text-align: right;\">\n",
       "      <th></th>\n",
       "      <th>lower_bound</th>\n",
       "      <th>upper_bound</th>\n",
       "      <th>value</th>\n",
       "    </tr>\n",
       "  </thead>\n",
       "  <tbody>\n",
       "    <tr>\n",
       "      <th>x_0</th>\n",
       "      <td>-inf</td>\n",
       "      <td>inf</td>\n",
       "      <td>0.0</td>\n",
       "    </tr>\n",
       "    <tr>\n",
       "      <th>x_1</th>\n",
       "      <td>-inf</td>\n",
       "      <td>inf</td>\n",
       "      <td>0.0</td>\n",
       "    </tr>\n",
       "    <tr>\n",
       "      <th>x_2</th>\n",
       "      <td>-inf</td>\n",
       "      <td>inf</td>\n",
       "      <td>0.0</td>\n",
       "    </tr>\n",
       "    <tr>\n",
       "      <th>x_3</th>\n",
       "      <td>-inf</td>\n",
       "      <td>inf</td>\n",
       "      <td>0.0</td>\n",
       "    </tr>\n",
       "    <tr>\n",
       "      <th>x_4</th>\n",
       "      <td>-inf</td>\n",
       "      <td>inf</td>\n",
       "      <td>-0.0</td>\n",
       "    </tr>\n",
       "  </tbody>\n",
       "</table>\n",
       "</div>"
      ],
      "text/plain": [
       "     lower_bound  upper_bound  value\n",
       "x_0         -inf          inf    0.0\n",
       "x_1         -inf          inf    0.0\n",
       "x_2         -inf          inf    0.0\n",
       "x_3         -inf          inf    0.0\n",
       "x_4         -inf          inf   -0.0"
      ]
     },
     "metadata": {},
     "execution_count": 25
    }
   ],
   "metadata": {}
  }
 ],
 "metadata": {
  "kernelspec": {
   "name": "python3",
   "display_name": "Python 3.7.4 64-bit ('anaconda3': virtualenv)"
  },
  "language_info": {
   "codemirror_mode": {
    "name": "ipython",
    "version": 3
   },
   "file_extension": ".py",
   "mimetype": "text/x-python",
   "name": "python",
   "nbconvert_exporter": "python",
   "pygments_lexer": "ipython3",
   "version": "3.7.4"
  },
  "interpreter": {
   "hash": "5c2651339f23e96386682d840c81116257052bf3276768d94f8c4b872a05d3e0"
  }
 },
 "nbformat": 4,
 "nbformat_minor": 4
}
