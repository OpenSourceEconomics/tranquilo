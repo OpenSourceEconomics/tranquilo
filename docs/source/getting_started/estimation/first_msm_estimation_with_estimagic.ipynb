{
 "cells": [
  {
   "cell_type": "markdown",
   "id": "private-handle",
   "metadata": {},
   "source": [
    "# Method of Simulated Moments (MSM)\n",
    "\n",
    "This tutorial shows how to do a Method of Simulated Moments estimation in estimagic. The Method of Simulated Moments (MSM) is a nonlinear estimation principle that is very useful to fit complicated models to data. The only thing that is needed is a function that simulates model outcomes that you observe in some empirical dataset. \n",
    "\n",
    "In this tutorial we will use a simple linear regression model. This is the same model which we use in the tutorial on maximum likelihood estimation.\n",
    "\n",
    "Throughout the tutorial we only talk about MSM estimation, however, the more general case of indirect inference estimation works exactly the same way. \n",
    "\n",
    "\n",
    "## Steps of MSM estimation\n",
    "\n",
    "- load (simulate) empirical data \n",
    "- define a function to calculate estimation moments on the data \n",
    "- calculate the covariance matrix of the empirical moments (with ``get_moments_cov``)\n",
    "- define a function to simulate moments from the model \n",
    "- estimate the model, calculate standard errors, do sensitivity analysis (with ``estimate_msm``)\n",
    "\n",
    "## Example: Estimating the parameters of a regression model\n",
    "\n",
    "The model we consider is simple regression model with one variable. The goal is to estimate the slope coefficients and the error variance from a simulated data set.\n",
    "\n",
    "The estimation mechanics are exactly the same for more complicated models. A model is always defined by a function that can take parameters (here: the mean, variance and lower_cutoff and upper_cutoff) and returns a number of simulated moments (mean, variance, soft_min and soft_max of simulated exam points).\n",
    "\n",
    "### Model:\n",
    "\n",
    "$$ y = \\beta_0 + \\beta_1 x + \\epsilon, \\text{ where } \\epsilon \\sim N(0, \\sigma^2)$$\n",
    "\n",
    "We aim to estimate $\\beta_0, \\beta_1, \\sigma^2$."
   ]
  },
  {
   "cell_type": "code",
   "execution_count": 1,
   "id": "dirty-slovakia",
   "metadata": {},
   "outputs": [],
   "source": [
    "import numpy as np\n",
    "import pandas as pd\n",
    "\n",
    "np.random.seed(0)"
   ]
  },
  {
   "cell_type": "markdown",
   "id": "annoying-guard",
   "metadata": {},
   "source": [
    "## Simulate data"
   ]
  },
  {
   "cell_type": "code",
   "execution_count": 2,
   "id": "fdaf1542",
   "metadata": {},
   "outputs": [],
   "source": [
    "def simulate_data(params, n_draws):\n",
    "    x = np.random.normal(0, 1, size=n_draws)\n",
    "    e = np.random.normal(0, params.loc[\"sd\", \"value\"], size=n_draws)\n",
    "    y = params.loc[\"intercept\", \"value\"] + params.loc[\"slope\", \"value\"] * x + e\n",
    "    return pd.DataFrame({\"y\": y, \"x\": x})"
   ]
  },
  {
   "cell_type": "code",
   "execution_count": 3,
   "id": "f965ccdc",
   "metadata": {},
   "outputs": [],
   "source": [
    "true_params = pd.DataFrame(\n",
    "    data=[[2, -np.inf], [-1, -np.inf], [1, 1e-10]],\n",
    "    columns=[\"value\", \"lower_bound\"],\n",
    "    index=[\"intercept\", \"slope\", \"sd\"],\n",
    ")\n",
    "\n",
    "data = simulate_data(true_params, n_draws=100)"
   ]
  },
  {
   "cell_type": "markdown",
   "id": "20a94f52",
   "metadata": {},
   "source": [
    "## Calculate Moments"
   ]
  },
  {
   "cell_type": "code",
   "execution_count": 4,
   "id": "diverse-validation",
   "metadata": {},
   "outputs": [],
   "source": [
    "def calculate_moments(sample):\n",
    "    moments = {\n",
    "        \"y_mean\": sample[\"y\"].mean(),\n",
    "        \"x_mean\": sample[\"x\"].mean(),\n",
    "        \"yx_mean\": (sample[\"y\"] * sample[\"x\"]).mean(),\n",
    "        \"y_sqrd_mean\": (sample[\"y\"] ** 2).mean(),\n",
    "        \"x_sqrd_mean\": (sample[\"x\"] ** 2).mean(),\n",
    "    }\n",
    "    return pd.Series(moments)"
   ]
  },
  {
   "cell_type": "code",
   "execution_count": 5,
   "id": "short-flood",
   "metadata": {},
   "outputs": [
    {
     "data": {
      "text/plain": [
       "y_mean         2.022205\n",
       "x_mean         0.059808\n",
       "yx_mean       -0.778369\n",
       "y_sqrd_mean    5.942648\n",
       "x_sqrd_mean    1.019404\n",
       "dtype: float64"
      ]
     },
     "execution_count": 5,
     "metadata": {},
     "output_type": "execute_result"
    }
   ],
   "source": [
    "empirical_moments = calculate_moments(data)\n",
    "empirical_moments"
   ]
  },
  {
   "cell_type": "markdown",
   "id": "italic-baptist",
   "metadata": {},
   "source": [
    "## Calculate the covariance matrix of empirical moments\n",
    "\n",
    "The covariance matrix of the empirical moments (``moments_cov``) is needed for three things:\n",
    "1. to calculate the weighting matrix\n",
    "2. to calculate standard errors\n",
    "3. to calculate sensitivity measures\n",
    "\n",
    "We will calculate ``moments_cov`` via a bootstrap. Depending on your problem there can be other ways to do it."
   ]
  },
  {
   "cell_type": "code",
   "execution_count": 6,
   "id": "gross-antibody",
   "metadata": {},
   "outputs": [],
   "source": [
    "from estimagic import get_moments_cov"
   ]
  },
  {
   "cell_type": "code",
   "execution_count": 7,
   "id": "rocky-willow",
   "metadata": {},
   "outputs": [
    {
     "data": {
      "text/html": [
       "<div>\n",
       "<style scoped>\n",
       "    .dataframe tbody tr th:only-of-type {\n",
       "        vertical-align: middle;\n",
       "    }\n",
       "\n",
       "    .dataframe tbody tr th {\n",
       "        vertical-align: top;\n",
       "    }\n",
       "\n",
       "    .dataframe thead th {\n",
       "        text-align: right;\n",
       "    }\n",
       "</style>\n",
       "<table border=\"1\" class=\"dataframe\">\n",
       "  <thead>\n",
       "    <tr style=\"text-align: right;\">\n",
       "      <th></th>\n",
       "      <th>y_mean</th>\n",
       "      <th>x_mean</th>\n",
       "      <th>yx_mean</th>\n",
       "      <th>y_sqrd_mean</th>\n",
       "      <th>x_sqrd_mean</th>\n",
       "    </tr>\n",
       "  </thead>\n",
       "  <tbody>\n",
       "    <tr>\n",
       "      <th>y_mean</th>\n",
       "      <td>0.020512</td>\n",
       "      <td>-0.009331</td>\n",
       "      <td>-0.013714</td>\n",
       "      <td>0.079071</td>\n",
       "      <td>-0.003119</td>\n",
       "    </tr>\n",
       "    <tr>\n",
       "      <th>x_mean</th>\n",
       "      <td>-0.009331</td>\n",
       "      <td>0.009908</td>\n",
       "      <td>0.017449</td>\n",
       "      <td>-0.034002</td>\n",
       "      <td>0.001736</td>\n",
       "    </tr>\n",
       "    <tr>\n",
       "      <th>yx_mean</th>\n",
       "      <td>-0.013714</td>\n",
       "      <td>0.017449</td>\n",
       "      <td>0.053657</td>\n",
       "      <td>-0.078643</td>\n",
       "      <td>-0.012049</td>\n",
       "    </tr>\n",
       "    <tr>\n",
       "      <th>y_sqrd_mean</th>\n",
       "      <td>0.079071</td>\n",
       "      <td>-0.034002</td>\n",
       "      <td>-0.078643</td>\n",
       "      <td>0.365561</td>\n",
       "      <td>0.000102</td>\n",
       "    </tr>\n",
       "    <tr>\n",
       "      <th>x_sqrd_mean</th>\n",
       "      <td>-0.003119</td>\n",
       "      <td>0.001736</td>\n",
       "      <td>-0.012049</td>\n",
       "      <td>0.000102</td>\n",
       "      <td>0.017509</td>\n",
       "    </tr>\n",
       "  </tbody>\n",
       "</table>\n",
       "</div>"
      ],
      "text/plain": [
       "               y_mean    x_mean   yx_mean  y_sqrd_mean  x_sqrd_mean\n",
       "y_mean       0.020512 -0.009331 -0.013714     0.079071    -0.003119\n",
       "x_mean      -0.009331  0.009908  0.017449    -0.034002     0.001736\n",
       "yx_mean     -0.013714  0.017449  0.053657    -0.078643    -0.012049\n",
       "y_sqrd_mean  0.079071 -0.034002 -0.078643     0.365561     0.000102\n",
       "x_sqrd_mean -0.003119  0.001736 -0.012049     0.000102     0.017509"
      ]
     },
     "execution_count": 7,
     "metadata": {},
     "output_type": "execute_result"
    }
   ],
   "source": [
    "moments_cov = get_moments_cov(\n",
    "    data, calculate_moments, bootstrap_kwargs={\"n_draws\": 5_000, \"seed\": 0}\n",
    ")\n",
    "\n",
    "moments_cov"
   ]
  },
  {
   "cell_type": "markdown",
   "id": "hearing-dairy",
   "metadata": {},
   "source": [
    "``get_moments_cov`` mainly just calls estimagic's bootstrap function. See our [bootstrap_tutorial](../../how_to_guides/inference/how_to_do_bootstrap_inference.ipynb) for background information. \n",
    "\n"
   ]
  },
  {
   "cell_type": "markdown",
   "id": "worldwide-whole",
   "metadata": {},
   "source": [
    "## Define a function to calculate simulated moments\n",
    "\n",
    "In a real application, this is the step that takes most of the time. However, in our very simple example, all the work is already done by numpy."
   ]
  },
  {
   "cell_type": "code",
   "execution_count": 8,
   "id": "creative-pittsburgh",
   "metadata": {},
   "outputs": [],
   "source": [
    "def simulate_moments(params, n_draws=10_000, seed=0):\n",
    "    np.random.seed(seed)\n",
    "    sim_data = simulate_data(params, n_draws)\n",
    "    sim_moments = calculate_moments(sim_data)\n",
    "    return sim_moments"
   ]
  },
  {
   "cell_type": "code",
   "execution_count": 9,
   "id": "casual-stream",
   "metadata": {},
   "outputs": [
    {
     "data": {
      "text/plain": [
       "y_mean         2.029422\n",
       "x_mean        -0.018434\n",
       "yx_mean       -1.020287\n",
       "y_sqrd_mean    6.095197\n",
       "x_sqrd_mean    0.975608\n",
       "dtype: float64"
      ]
     },
     "execution_count": 9,
     "metadata": {},
     "output_type": "execute_result"
    }
   ],
   "source": [
    "simulate_moments(true_params)"
   ]
  },
  {
   "cell_type": "markdown",
   "id": "sustainable-collectible",
   "metadata": {},
   "source": [
    "## Estimate the model parameters\n",
    "\n",
    "Estimating a model consists of the following steps:\n",
    "\n",
    "- Building a criterion function that measures a distance between simulated and empirical moments\n",
    "- Minimizing this criterion function\n",
    "- Calculating the Jacobian of the model\n",
    "- Calculating standard errors, confidence intervals and p values\n",
    "- Calculating sensitivity measures\n",
    "\n",
    "This can all be done in one go with the ``estimate_msm`` function. This function has good default values, so you only need a minimum number of inputs. However, you can configure almost every aspect of the workflow via optional arguments. If you need even more control, you can call the low level functions ``estimate_msm`` is built on directly. "
   ]
  },
  {
   "cell_type": "code",
   "execution_count": 10,
   "id": "thick-upset",
   "metadata": {},
   "outputs": [],
   "source": [
    "from estimagic import estimate_msm"
   ]
  },
  {
   "cell_type": "code",
   "execution_count": 11,
   "id": "finite-david",
   "metadata": {},
   "outputs": [
    {
     "name": "stderr",
     "output_type": "stream",
     "text": [
      "/home/tim/sciebo/phd/projects/janos/estimagic/src/estimagic/utilities.py:194: UserWarning: Standard matrix inversion failed due to LinAlgError described below. A pseudo inverse was calculated instead. Taking inverse failed during the calculation of sensitvity measures. Interpret them with caution.\n",
      "  warnings.warn(header + msg)\n"
     ]
    }
   ],
   "source": [
    "start_params = true_params.assign(value=[100, 100, 100])\n",
    "\n",
    "res = estimate_msm(\n",
    "    simulate_moments,\n",
    "    empirical_moments,\n",
    "    moments_cov,\n",
    "    start_params,\n",
    "    optimize_options={\"algorithm\": \"scipy_lbfgsb\"},\n",
    ")"
   ]
  },
  {
   "cell_type": "code",
   "execution_count": 12,
   "id": "outside-volleyball",
   "metadata": {},
   "outputs": [
    {
     "data": {
      "text/html": [
       "<div>\n",
       "<style scoped>\n",
       "    .dataframe tbody tr th:only-of-type {\n",
       "        vertical-align: middle;\n",
       "    }\n",
       "\n",
       "    .dataframe tbody tr th {\n",
       "        vertical-align: top;\n",
       "    }\n",
       "\n",
       "    .dataframe thead th {\n",
       "        text-align: right;\n",
       "    }\n",
       "</style>\n",
       "<table border=\"1\" class=\"dataframe\">\n",
       "  <thead>\n",
       "    <tr style=\"text-align: right;\">\n",
       "      <th></th>\n",
       "      <th>value</th>\n",
       "      <th>standard_error</th>\n",
       "      <th>p_value</th>\n",
       "      <th>ci_lower</th>\n",
       "      <th>ci_upper</th>\n",
       "      <th>stars</th>\n",
       "    </tr>\n",
       "  </thead>\n",
       "  <tbody>\n",
       "    <tr>\n",
       "      <th>intercept</th>\n",
       "      <td>1.995793</td>\n",
       "      <td>0.142305</td>\n",
       "      <td>1.078528e-44</td>\n",
       "      <td>1.716880</td>\n",
       "      <td>2.274707</td>\n",
       "      <td>***</td>\n",
       "    </tr>\n",
       "    <tr>\n",
       "      <th>slope</th>\n",
       "      <td>-0.750961</td>\n",
       "      <td>0.237271</td>\n",
       "      <td>1.519872e-03</td>\n",
       "      <td>-1.216004</td>\n",
       "      <td>-0.285918</td>\n",
       "      <td>***</td>\n",
       "    </tr>\n",
       "    <tr>\n",
       "      <th>sd</th>\n",
       "      <td>1.143843</td>\n",
       "      <td>0.149403</td>\n",
       "      <td>1.878186e-14</td>\n",
       "      <td>0.851019</td>\n",
       "      <td>1.436667</td>\n",
       "      <td>***</td>\n",
       "    </tr>\n",
       "  </tbody>\n",
       "</table>\n",
       "</div>"
      ],
      "text/plain": [
       "              value  standard_error       p_value  ci_lower  ci_upper stars\n",
       "intercept  1.995793        0.142305  1.078528e-44  1.716880  2.274707   ***\n",
       "slope     -0.750961        0.237271  1.519872e-03 -1.216004 -0.285918   ***\n",
       "sd         1.143843        0.149403  1.878186e-14  0.851019  1.436667   ***"
      ]
     },
     "execution_count": 12,
     "metadata": {},
     "output_type": "execute_result"
    }
   ],
   "source": [
    "res[\"summary\"]"
   ]
  },
  {
   "cell_type": "markdown",
   "id": "incident-government",
   "metadata": {},
   "source": [
    "## What's in the result?\n",
    "\n",
    "The result is a dictionary with the following entries:"
   ]
  },
  {
   "cell_type": "code",
   "execution_count": 13,
   "id": "caring-scale",
   "metadata": {},
   "outputs": [
    {
     "data": {
      "text/plain": [
       "dict_keys(['summary', 'cov', 'sensitivity', 'jacobian', 'optimize_res', 'jacobian_numdiff_info'])"
      ]
     },
     "execution_count": 13,
     "metadata": {},
     "output_type": "execute_result"
    }
   ],
   "source": [
    "res.keys()"
   ]
  },
  {
   "cell_type": "markdown",
   "id": "approximate-constitution",
   "metadata": {},
   "source": [
    "- summary: A DataFrame with estimated parameters, standard errors, p_values and confidence intervals. This is ideal for use with our `estimation_table` function. \n",
    "- cov: A DataFrame with the full covariance matrix of the estimated parameters. You can use this for hypothesis tests. \n",
    "- optimize_res: A dictionary with the complete output of the numerical optimization (if one was performed)\n",
    "- numdiff_info: A dictionary with the complete output of the numerical differentiation (if one was performed)\n",
    "- jacobian: A DataFrame with the jacobian of `simulate_moments` with respect to the free parameters. \n",
    "- sensitivity: A dictionary of DataFrames with the six sensitivity measures from Honore, Jorgensen and DePaula (2020)"
   ]
  },
  {
   "cell_type": "markdown",
   "id": "blind-tractor",
   "metadata": {},
   "source": [
    "## How to visualize sensitivity measures\n",
    "\n",
    "For more background on the sensitivity measures and their interpretation, check out the [how to guide](../../how_to_guides/miscellaneous/how_to_visualize_and_interpret_sensitivity_measures.ipynb) on sensitivity measures. \n",
    "\n",
    "Here we are just showing you how to plot them:"
   ]
  },
  {
   "cell_type": "code",
   "execution_count": 14,
   "id": "fleet-qatar",
   "metadata": {},
   "outputs": [
    {
     "data": {
      "image/png": "[encoded data removed]"
     },
     "metadata": {},
     "output_type": "display_data"
    }
   ],
   "source": [
    "from estimagic.visualization.lollipop_plot import lollipop_plot\n",
    "\n",
    "sensitivity_data = res[\"sensitivity\"][\"sensitivity_to_bias\"].abs().T\n",
    "\n",
    "fig = lollipop_plot(sensitivity_data)\n",
    "\n",
    "fig = fig.update_layout(height=500, width=900)\n",
    "fig.show(renderer=\"png\")"
   ]
  }
 ],
 "metadata": {
  "kernelspec": {
   "display_name": "Python 3 (ipykernel)",
   "language": "python",
   "name": "python3"
  },
  "language_info": {
   "codemirror_mode": {
    "name": "ipython",
    "version": 3
   },
   "file_extension": ".py",
   "mimetype": "text/x-python",
   "name": "python",
   "nbconvert_exporter": "python",
   "pygments_lexer": "ipython3",
   "version": "3.8.13"
  }
 },
 "nbformat": 4,
 "nbformat_minor": 5
}
